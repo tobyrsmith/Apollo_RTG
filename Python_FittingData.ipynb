{
 "cells": [
  {
   "cell_type": "markdown",
   "metadata": {},
   "source": [
    "# Fitting Data"
   ]
  },
  {
   "cell_type": "code",
   "execution_count": null,
   "metadata": {
    "collapsed": true
   },
   "outputs": [],
   "source": [
    "%matplotlib inline\n",
    "\n",
    "import matplotlib.pyplot as plt\n",
    "import numpy as np\n",
    "from astropy.table import QTable"
   ]
  },
  {
   "cell_type": "markdown",
   "metadata": {},
   "source": [
    "## Fitting a specific function"
   ]
  },
  {
   "cell_type": "code",
   "execution_count": null,
   "metadata": {},
   "outputs": [],
   "source": [
    "ap12_data = QTable.read('Ap12_RTG.csv', format='ascii.csv')\n",
    "\n",
    "ap12_data[0:2]\n",
    "\n",
    "#plt.plot(D3['x'],D3['y'],marker=\"o\",linestyle=\"None\",markersize=5);"
   ]
  },
  {
   "cell_type": "code",
   "execution_count": null,
   "metadata": {},
   "outputs": [],
   "source": [
    "plt.plot(ap12_data['Lun'],ap12_data['Power'],marker=\"o\",linestyle=\"None\",markersize=5);"
   ]
  },
  {
   "cell_type": "code",
   "execution_count": null,
   "metadata": {
    "collapsed": true
   },
   "outputs": [],
   "source": [
    "from scipy.optimize import curve_fit"
   ]
  },
  {
   "cell_type": "markdown",
   "metadata": {},
   "source": [
    "$$ \\Large N(t) = N_0 e^{-Lt} $$"
   ]
  },
  {
   "cell_type": "code",
   "execution_count": null,
   "metadata": {
    "collapsed": true
   },
   "outputs": [],
   "source": [
    "def ringo(t,No,L):\n",
    "    return No + (1.0 - np.exp(t/L))"
   ]
  },
  {
   "cell_type": "code",
   "execution_count": null,
   "metadata": {},
   "outputs": [],
   "source": [
    "Aguess = 75\n",
    "Bguess = 40\n",
    "\n",
    "fitpars, error = curve_fit(ringo,ap12_data['Lun'],ap12_data['Power'],p0=[Aguess,Bguess])\n",
    "\n",
    "# Function to fit = ringo\n",
    "# X points to fit = D3['x']\n",
    "# Y points to fit = D3['y']\n",
    "# Initial guess at values for a,b = [Aguess,Bguess]\n",
    "\n",
    "print(fitpars)"
   ]
  },
  {
   "cell_type": "code",
   "execution_count": null,
   "metadata": {},
   "outputs": [],
   "source": [
    "Z = np.linspace(0,150,1000)\n",
    "\n",
    "plt.plot(Z, ringo(Z, *fitpars), 'r-')\n",
    "plt.plot(Z, ringo(Z,Aguess,Bguess), 'g--')\n",
    "\n",
    "plt.plot(ap12_data['Lun'],ap12_data['Power'],marker=\"o\",linestyle=\"None\",markersize=5);"
   ]
  },
  {
   "cell_type": "code",
   "execution_count": null,
   "metadata": {},
   "outputs": [],
   "source": [
    "Z = np.linspace(1,150,1000)\n",
    "\n",
    "Y = 75 * (1 - 0.5 ** (Z * 0.001))\n",
    "\n",
    "plt.plot(Z, Y, 'r-')\n",
    "#plt.plot(ap12_data['Lun'],ap12_data['Power'],marker=\"o\",linestyle=\"None\",markersize=5);"
   ]
  },
  {
   "cell_type": "markdown",
   "metadata": {},
   "source": [
    "### Bad initial guesses can lead to very bad fits"
   ]
  },
  {
   "cell_type": "code",
   "execution_count": null,
   "metadata": {
    "collapsed": true
   },
   "outputs": [],
   "source": [
    "Aguess = 35\n",
    "Bguess = 1.0\n",
    "\n",
    "fitpars, error = curve_fit(ringo,D3['x'],D3['y'],p0=[Aguess,Bguess])\n",
    "\n",
    "print(fitpars)\n",
    "\n",
    "plt.plot(Z, ringo(Z, *fitpars), 'r-')\n",
    "plt.plot(Z, ringo(Z,Aguess,Bguess), 'g--')\n",
    "\n",
    "plt.plot(D3['x'],D3['y'],marker=\"o\",linestyle=\"None\",markersize=5);"
   ]
  }
 ],
 "metadata": {
  "anaconda-cloud": {},
  "kernelspec": {
   "display_name": "Python 3",
   "language": "python",
   "name": "python3"
  },
  "language_info": {
   "codemirror_mode": {
    "name": "ipython",
    "version": 3
   },
   "file_extension": ".py",
   "mimetype": "text/x-python",
   "name": "python",
   "nbconvert_exporter": "python",
   "pygments_lexer": "ipython3",
   "version": "3.6.2"
  }
 },
 "nbformat": 4,
 "nbformat_minor": 1
}
