{
 "cells": [
  {
   "cell_type": "markdown",
   "metadata": {},
   "source": [
    "# RTG Data"
   ]
  },
  {
   "cell_type": "code",
   "execution_count": null,
   "metadata": {
    "collapsed": true
   },
   "outputs": [],
   "source": [
    "%matplotlib inline\n",
    "\n",
    "import matplotlib.pyplot as plt\n",
    "import numpy as np\n",
    "from astropy.table import QTable"
   ]
  },
  {
   "cell_type": "markdown",
   "metadata": {},
   "source": [
    "## Fitting a specific function"
   ]
  },
  {
   "cell_type": "code",
   "execution_count": null,
   "metadata": {},
   "outputs": [],
   "source": [
    "ap12_data = QTable.read('Ap12_RTG.csv', format='ascii.csv')\n",
    "\n",
    "ap12_data[0:2]\n",
    "\n",
    "#plt.plot(D3['x'],D3['y'],marker=\"o\",linestyle=\"None\",markersize=5);"
   ]
  },
  {
   "cell_type": "code",
   "execution_count": null,
   "metadata": {},
   "outputs": [],
   "source": [
    "plt.plot(ap12_data['Lun'],ap12_data['Power'],marker=\"o\",linestyle=\"None\",markersize=5);"
   ]
  },
  {
   "cell_type": "code",
   "execution_count": null,
   "metadata": {},
   "outputs": [],
   "source": [
    "Fit2 = np.polyfit(ap12_data['Lun'],ap12_data['Power'],3)\n",
    "\n",
    "Fit2"
   ]
  },
  {
   "cell_type": "code",
   "execution_count": null,
   "metadata": {},
   "outputs": [],
   "source": [
    "Yfit = np.polyval(Fit2,ap12_data['Lun'])\n",
    "\n",
    "plt.plot(ap12_data['Lun'], ap12_data['Power'], marker=\"o\", linestyle=\"None\", markersize=5)\n",
    "\n",
    "plt.plot(ap12_data['Lun'], Yfit, linewidth=3, color='y', linestyle='--');"
   ]
  },
  {
   "cell_type": "code",
   "execution_count": null,
   "metadata": {},
   "outputs": [],
   "source": [
    "Z = np.linspace(1,150,1000)\n",
    "\n",
    "plt.ylim(0,80)\n",
    "\n",
    "Yfit = np.polyval(Fit2,Z)\n",
    "\n",
    "plt.plot(ap12_data['Lun'], ap12_data['Power'], marker=\"o\", linestyle=\"None\", markersize=5)\n",
    "\n",
    "plt.plot(Z, Yfit, linewidth=3, color='y', linestyle='--');"
   ]
  },
  {
   "cell_type": "code",
   "execution_count": null,
   "metadata": {},
   "outputs": [],
   "source": [
    "p = np.poly1d(Fit2)\n",
    "p(134.06758311)"
   ]
  },
  {
   "cell_type": "code",
   "execution_count": null,
   "metadata": {},
   "outputs": [],
   "source": [
    "p.roots"
   ]
  },
  {
   "cell_type": "code",
   "execution_count": null,
   "metadata": {},
   "outputs": [],
   "source": [
    "(p - 5).roots"
   ]
  },
  {
   "cell_type": "code",
   "execution_count": null,
   "metadata": {},
   "outputs": [],
   "source": [
    "p.order"
   ]
  },
  {
   "cell_type": "code",
   "execution_count": null,
   "metadata": {
    "collapsed": true
   },
   "outputs": [],
   "source": [
    "from scipy.optimize import curve_fit"
   ]
  },
  {
   "cell_type": "markdown",
   "metadata": {},
   "source": [
    "$$ \\Large N(t) = N_0 e^{-Lt} $$"
   ]
  },
  {
   "cell_type": "code",
   "execution_count": null,
   "metadata": {
    "collapsed": true
   },
   "outputs": [],
   "source": [
    "def ringo(t,No,L):\n",
    "    return (No - np.exp(t *L))"
   ]
  },
  {
   "cell_type": "code",
   "execution_count": null,
   "metadata": {},
   "outputs": [],
   "source": [
    "Aguess = 75\n",
    "Bguess = 0.25\n",
    "\n",
    "fitpars, error = curve_fit(ringo,ap12_data['Lun'],ap12_data['Power'],p0=[Aguess,Bguess])\n",
    "\n",
    "# Function to fit = ringo\n",
    "# X points to fit = D3['x']\n",
    "# Y points to fit = D3['y']\n",
    "# Initial guess at values for a,b = [Aguess,Bguess]\n",
    "\n",
    "print(fitpars)"
   ]
  },
  {
   "cell_type": "code",
   "execution_count": null,
   "metadata": {},
   "outputs": [],
   "source": [
    "Z = np.linspace(0,200,1000)\n",
    "\n",
    "plt.plot(Z, ringo(Z, *fitpars), 'r-')\n",
    "plt.plot(Z, ringo(Z,Aguess,Bguess), 'g--')\n",
    "\n",
    "plt.plot(ap12_data['Lun'],ap12_data['Power'],marker=\"o\",linestyle=\"None\",markersize=5);"
   ]
  },
  {
   "cell_type": "code",
   "execution_count": null,
   "metadata": {},
   "outputs": [],
   "source": [
    "Z = np.linspace(1,150,1000)\n",
    "\n",
    "Y = (75 * (1 - (2 ** (0.005 * Z)))) + 75\n",
    "\n",
    "plt.ylim(10,80)\n",
    "\n",
    "plt.plot(Z, Y, 'r-')\n",
    "plt.plot(ap12_data['Lun'],ap12_data['Power'],marker=\"o\",linestyle=\"None\",markersize=5);"
   ]
  },
  {
   "cell_type": "code",
   "execution_count": null,
   "metadata": {},
   "outputs": [],
   "source": [
    "(0.5 ** (0.1 / Z))"
   ]
  },
  {
   "cell_type": "markdown",
   "metadata": {},
   "source": [
    "### Bad initial guesses can lead to very bad fits"
   ]
  },
  {
   "cell_type": "code",
   "execution_count": null,
   "metadata": {},
   "outputs": [],
   "source": [
    "fig,ax = plt.subplots(1,1)                    # One window\n",
    "fig.set_size_inches(11,8.5)                   # (width,height) - letter paper landscape\n",
    "\n",
    "fig.tight_layout()                          # Make better use of space on plot\n",
    "\n",
    "ax.set_ylim(10,100)\n",
    "\n",
    "ax.set_yscale('log')\n",
    "\n",
    "ax.set_xlabel(\"Time\")\n",
    "ax.set_ylabel(\"Power\")\n",
    "\n",
    "ax.plot(ap12_data['Lun'],ap12_data['Power'],marker=\"o\",linestyle=\"None\",markersize=5);\n"
   ]
  },
  {
   "cell_type": "code",
   "execution_count": null,
   "metadata": {
    "collapsed": true
   },
   "outputs": [],
   "source": []
  }
 ],
 "metadata": {
  "anaconda-cloud": {},
  "kernelspec": {
   "display_name": "Python 3",
   "language": "python",
   "name": "python3"
  },
  "language_info": {
   "codemirror_mode": {
    "name": "ipython",
    "version": 3
   },
   "file_extension": ".py",
   "mimetype": "text/x-python",
   "name": "python",
   "nbconvert_exporter": "python",
   "pygments_lexer": "ipython3",
   "version": "3.6.2"
  }
 },
 "nbformat": 4,
 "nbformat_minor": 1
}
