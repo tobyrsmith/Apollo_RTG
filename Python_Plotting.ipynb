{
 "cells": [
  {
   "cell_type": "markdown",
   "metadata": {},
   "source": [
    "# Plotting data with Python"
   ]
  },
  {
   "cell_type": "markdown",
   "metadata": {},
   "source": [
    "## [`matplotlib`](http://matplotlib.org/) is the main plotting library for Python"
   ]
  },
  {
   "cell_type": "code",
   "execution_count": null,
   "metadata": {
    "collapsed": true
   },
   "outputs": [],
   "source": [
    "%matplotlib inline\n",
    "\n",
    "import matplotlib.pyplot as plt\n",
    "import numpy as np\n",
    "from astropy.table import QTable"
   ]
  },
  {
   "cell_type": "markdown",
   "metadata": {},
   "source": [
    "### Simple Plotting"
   ]
  },
  {
   "cell_type": "code",
   "execution_count": null,
   "metadata": {
    "collapsed": true
   },
   "outputs": [],
   "source": [
    "t = np.linspace(0,2,100)               # 100 points linearly spaced between 0.0 and 2.0\n",
    "s = np.cos(2*np.pi*t) * np.exp(-t)     # s if a function of t"
   ]
  },
  {
   "cell_type": "code",
   "execution_count": null,
   "metadata": {
    "collapsed": true
   },
   "outputs": [],
   "source": [
    "plt.plot(t,s)"
   ]
  },
  {
   "cell_type": "markdown",
   "metadata": {},
   "source": [
    "### Simple plotting - with *style*"
   ]
  },
  {
   "cell_type": "markdown",
   "metadata": {},
   "source": [
    "The default style of `matplotlib` is a bit lacking in style. Some would term it ugly. The new version of `matplotlib` has added some new styles that you can use in place of the default. Changing the style will effect all of the rest of the plots on the notebook.\n",
    "\n",
    "Examples of the various styles can be found [here](http://matplotlib.org/examples/style_sheets/style_sheets_reference.html)"
   ]
  },
  {
   "cell_type": "code",
   "execution_count": null,
   "metadata": {
    "collapsed": true
   },
   "outputs": [],
   "source": [
    "plt.style.available"
   ]
  },
  {
   "cell_type": "code",
   "execution_count": null,
   "metadata": {
    "collapsed": true
   },
   "outputs": [],
   "source": [
    "plt.style.use('ggplot')"
   ]
  },
  {
   "cell_type": "code",
   "execution_count": null,
   "metadata": {
    "collapsed": true
   },
   "outputs": [],
   "source": [
    "plt.plot(t,s)"
   ]
  },
  {
   "cell_type": "code",
   "execution_count": null,
   "metadata": {
    "collapsed": true
   },
   "outputs": [],
   "source": [
    "plt.xlabel('time (s)')\n",
    "plt.ylabel('voltage (mV)')\n",
    "plt.title('This is a title')\n",
    "\n",
    "plt.ylim(-1.5,1.5)\n",
    "\n",
    "plt.plot(t, s, color='b', marker='None', linestyle='--');   # adding the ';' at then suppresses the Out[] line"
   ]
  },
  {
   "cell_type": "code",
   "execution_count": null,
   "metadata": {
    "collapsed": true
   },
   "outputs": [],
   "source": [
    "mask1 = np.where((s>-0.4) & (s<0))\n",
    "\n",
    "plt.plot(t, s, color='b', marker='None', linestyle='--')\n",
    "\n",
    "plt.plot(t[mask1],s[mask1],color=\"g\",marker=\"o\",linestyle=\"None\",markersize=8);"
   ]
  },
  {
   "cell_type": "raw",
   "metadata": {},
   "source": [
    "  Colors                 Markers                Linestyles\n",
    "                                       \n",
    "'b'     blue         's'        square          '-'   Solid line\n",
    "'g'     green        'o'        circle          '--'  Dashed \n",
    "'r'     red          '^'        triangle        ':'   Dotted \n",
    "'c'     cyan         '+'        plus            '-.'  Dash Dot \n",
    "'m'     magenta      '.'        dot             \n",
    "'y'     yellow       '*'        star \n",
    "'k'     black        'D'        diamond         size in pts (72 pt = 1 in)\n",
    "'w'     white        'x'        cross   "
   ]
  },
  {
   "cell_type": "markdown",
   "metadata": {},
   "source": [
    "### In addition, you can specify colors in many different ways:\n",
    "\n",
    "- Grayscale intensities: `color = '0.8'`\n",
    "- RGB triplets: `color = (0.3, 0.1, 0.9)`\n",
    "- RGB triplets (with transparency): `color = (0.3, 0.1, 0.9, 0.4)`\n",
    "- Hex strings: `color = '#7ff00'`\n",
    "- [HTML color names](https://en.wikipedia.org/wiki/Web_colors): `color = 'Chartreuse'`\n",
    "- a name from the [xkcd color survey](https://xkcd.com/color/rgb/) prefixed with 'xkcd:' (e.g., 'xkcd:sky blue')"
   ]
  },
  {
   "cell_type": "markdown",
   "metadata": {},
   "source": [
    "### matplotlib will work with Astropy units"
   ]
  },
  {
   "cell_type": "code",
   "execution_count": null,
   "metadata": {
    "collapsed": true
   },
   "outputs": [],
   "source": [
    "from astropy import units as u\n",
    "\n",
    "from astropy.visualization import quantity_support\n",
    "quantity_support()"
   ]
  },
  {
   "cell_type": "code",
   "execution_count": null,
   "metadata": {
    "collapsed": true
   },
   "outputs": [],
   "source": [
    "v = 10 * u.m / u.s\n",
    "t2 = np.linspace(0,10,1000) * u.s\n",
    "y = v * t2"
   ]
  },
  {
   "cell_type": "code",
   "execution_count": null,
   "metadata": {
    "collapsed": true
   },
   "outputs": [],
   "source": [
    "plt.plot(t2,y)"
   ]
  },
  {
   "cell_type": "markdown",
   "metadata": {},
   "source": [
    "### Simple Histograms"
   ]
  },
  {
   "cell_type": "code",
   "execution_count": null,
   "metadata": {
    "collapsed": true
   },
   "outputs": [],
   "source": [
    "#Histogram of \"h\" with 20 bins\n",
    "\n",
    "np.random.seed(42)\n",
    "h = np.random.randn(500)\n",
    "\n",
    "plt.hist(h, bins=20, facecolor='MediumOrchid');"
   ]
  },
  {
   "cell_type": "code",
   "execution_count": null,
   "metadata": {
    "collapsed": true
   },
   "outputs": [],
   "source": [
    "mask2 = np.where(h>0.0)\n",
    "\n",
    "np.random.seed(42)\n",
    "j = np.random.normal(2.0,1.0,300)  # normal dist, ave = 2.0, std = 1.0\n",
    "\n",
    "plt.hist(h[mask2], bins=20, facecolor='#b20010', histtype='stepfilled')\n",
    "plt.hist(j,        bins=20, facecolor='#0200b0', histtype='stepfilled', alpha = 0.30);"
   ]
  },
  {
   "cell_type": "markdown",
   "metadata": {},
   "source": [
    "## You have better control of the plot with the `object oriented` interface.\n",
    "\n",
    "While most ``plt`` functions translate directly to ``ax`` methods (such as ``plt.plot()`` → ``ax.plot()``, ``plt.legend()`` → ``ax.legend()``, etc.), this is not the case for all commands.\n",
    "In particular, functions to set limits, labels, and titles are slightly modified.\n",
    "For transitioning between matlab-style functions and object-oriented methods, make the following changes:\n",
    "\n",
    "- ``plt.xlabel()``  → ``ax.set_xlabel()``\n",
    "- ``plt.ylabel()`` → ``ax.set_ylabel()``\n",
    "- ``plt.xlim()``  → ``ax.set_xlim()``\n",
    "- ``plt.ylim()`` → ``ax.set_ylim()``\n",
    "- ``plt.title()`` → ``ax.set_title()``"
   ]
  },
  {
   "cell_type": "code",
   "execution_count": null,
   "metadata": {
    "collapsed": true
   },
   "outputs": [],
   "source": [
    "fig,ax = plt.subplots(1,1)                    # One window\n",
    "fig.set_size_inches(11,8.5)                   # (width,height) - letter paper landscape\n",
    "\n",
    "fig.tight_layout()                          # Make better use of space on plot\n",
    "\n",
    "ax.set_xlim(0.0,1.5)\n",
    "\n",
    "ax.spines['bottom'].set_position('zero')    # Move the bottom axis line to x = 0\n",
    "\n",
    "ax.set_xlabel(\"This is X\")\n",
    "ax.set_ylabel(\"This is Y\")\n",
    "\n",
    "ax.plot(t, s, color='b', marker='None', linestyle='--')\n",
    "\n",
    "ax.text(0.8, 0.6, 'Bad Wolf', color='green', fontsize=36)            # You can place text on the plot\n",
    "\n",
    "ax.vlines(0.4, -0.4, 0.8, color='m', linewidth=3)                    # vlines(x, ymin, ymax)\n",
    "ax.hlines(0.8,  0.2, 0.6, color='y', linewidth=5)                    # hlines(y, xmin, xmax)"
   ]
  },
  {
   "cell_type": "code",
   "execution_count": null,
   "metadata": {
    "collapsed": true
   },
   "outputs": [],
   "source": [
    "fig.savefig('fig1.png', bbox_inches='tight')"
   ]
  },
  {
   "cell_type": "code",
   "execution_count": null,
   "metadata": {
    "collapsed": true
   },
   "outputs": [],
   "source": [
    "import glob\n",
    "\n",
    "glob.glob('*.png')"
   ]
  },
  {
   "cell_type": "markdown",
   "metadata": {},
   "source": [
    "### Plotting from multiple external data files"
   ]
  },
  {
   "cell_type": "code",
   "execution_count": null,
   "metadata": {
    "collapsed": true
   },
   "outputs": [],
   "source": [
    "data_list = glob.glob('./MyData/12_data*.csv')\n",
    "\n",
    "data_list"
   ]
  },
  {
   "cell_type": "code",
   "execution_count": null,
   "metadata": {
    "collapsed": true
   },
   "outputs": [],
   "source": [
    "fig,ax = plt.subplots(1,1)                    # One window\n",
    "fig.set_size_inches(11,8.5)                   # (width,height) - letter paper landscape\n",
    "\n",
    "fig.tight_layout()                          # Make better use of space on plot\n",
    "\n",
    "ax.set_xlim(0.0,80.0)\n",
    "ax.set_ylim(15.0,100.0)\n",
    "\n",
    "ax.set_xlabel(\"This is X\")\n",
    "ax.set_ylabel(\"This is Y\")\n",
    "\n",
    "for file in data_list:\n",
    "    \n",
    "    data = QTable.read(file, format='ascii.csv')\n",
    "    ax.plot(data['x'], data['y'],marker=\"o\",linestyle=\"None\",markersize=7,label=file)\n",
    "    \n",
    "ax.legend(loc=0,shadow=True);"
   ]
  },
  {
   "cell_type": "markdown",
   "metadata": {},
   "source": [
    "Legend loc codes:\n",
    "\n",
    "0   best                6   center left\n",
    "1   upper right         7   center right\n",
    "2   upper left          8   lower center\n",
    "3   lower left          9   upper center\n",
    "4   lower right         10  center"
   ]
  },
  {
   "cell_type": "markdown",
   "metadata": {},
   "source": [
    "### Subplots\n",
    "- `subplot(rows,columns)`\n",
    "- Access each subplot like a matrix. `[x,y]`\n",
    "- For example: `subplot(2,2)` makes four panels with the coordinates:"
   ]
  },
  {
   "cell_type": "raw",
   "metadata": {},
   "source": [
    " [0,0] [0,1]\n",
    " [1,0] [1,1]"
   ]
  },
  {
   "cell_type": "code",
   "execution_count": null,
   "metadata": {
    "collapsed": true
   },
   "outputs": [],
   "source": [
    "fig, ax = plt.subplots(2,2)                                               # 2 rows 2 columns\n",
    "fig.set_size_inches(11,8.5)                                               # width, height\n",
    "\n",
    "fig.tight_layout()                                                        # Make better use of space on plot\n",
    "\n",
    "ax[0,0].plot(t, s, color='b', marker='None', linestyle='--')              # Plot at [0,0]\n",
    "\n",
    "ax[0,1].hist(h, bins=20, facecolor='MediumOrchid')                        # Plot at [0,1]\n",
    "\n",
    "ax[1,0].hist(j,bins=20, facecolor='HotPink', histtype='stepfilled')       # Plot at [1,0]\n",
    "ax[1,0].vlines(2.0, 0.0, 50.0, color='xkcd:seafoam green', linewidth=3)\n",
    "\n",
    "ax[1,1].set_xscale('log')                                                 # Plot at [1,1] - x-axis set to log\n",
    "ax[1,1].plot(t, s, color='r', marker='None', linestyle='--'); "
   ]
  },
  {
   "cell_type": "markdown",
   "metadata": {},
   "source": [
    "---\n",
    "\n",
    "## An Astronomical Example - Color Magnitude Diagrams"
   ]
  },
  {
   "cell_type": "code",
   "execution_count": null,
   "metadata": {
    "collapsed": true
   },
   "outputs": [],
   "source": [
    "T = QTable.read('M15_Bright.csv', format='ascii.csv')\n",
    "T[0:3]"
   ]
  },
  {
   "cell_type": "code",
   "execution_count": null,
   "metadata": {
    "collapsed": true
   },
   "outputs": [],
   "source": [
    "fig, ax = plt.subplots(1,1)                 # 1 row, 2 colums\n",
    "fig.set_size_inches(15,10)\n",
    "\n",
    "fig.tight_layout()\n",
    "\n",
    "BV = T['Bmag'] - T['Vmag']\n",
    "V = T['Vmag']\n",
    "\n",
    "ax.set_xlim(-0.25,1.5)\n",
    "ax.set_ylim(12,19)\n",
    "\n",
    "ax.set_aspect(1/6)         # Make 1 unit in X = 6 units in Y\n",
    "ax.invert_yaxis()          # Magnitudes increase to smaller values\n",
    "\n",
    "ax.set_xlabel(\"B-V\")\n",
    "ax.set_ylabel(\"V\")\n",
    "\n",
    "ax.plot(BV,V,color=\"b\",marker=\"o\",linestyle=\"None\",markersize=5);\n",
    "\n",
    "# overplotting\n",
    "\n",
    "mask_color = np.where((V < 16.25) & (BV < 0.55))     \n",
    "\n",
    "ax.plot(BV[mask_color], V[mask_color],color=\"r\",marker=\"o\",linestyle=\"None\",markersize=4, alpha=0.5);"
   ]
  },
  {
   "cell_type": "markdown",
   "metadata": {},
   "source": [
    "---"
   ]
  },
  {
   "cell_type": "markdown",
   "metadata": {},
   "source": [
    "## VizieR catalog database\n",
    "\n",
    "Astropy can read data directly from the [VizieR](http://vizier.u-strasbg.fr/viz-bin/VizieR) catalog database.\n",
    "\n",
    "For example let us read in the stars from the article [UBVRI photometric standard stars around the celestial equator](http://adsbit.harvard.edu//full/1983AJ.....88..439L/0000444.000.html) (Landolt 1983 AJ)"
   ]
  },
  {
   "cell_type": "code",
   "execution_count": null,
   "metadata": {
    "collapsed": true
   },
   "outputs": [],
   "source": [
    "from astropy.io import ascii"
   ]
  },
  {
   "cell_type": "code",
   "execution_count": null,
   "metadata": {
    "collapsed": true
   },
   "outputs": [],
   "source": [
    "star_table = ascii.read(\"ftp://cdsarc.u-strasbg.fr/pub/cats/II/118/main\",\n",
    "                         readme=\"ftp://cdsarc.u-strasbg.fr/pub/cats/II/118/ReadMe\")"
   ]
  },
  {
   "cell_type": "code",
   "execution_count": null,
   "metadata": {
    "collapsed": true
   },
   "outputs": [],
   "source": [
    "star_table.info"
   ]
  },
  {
   "cell_type": "code",
   "execution_count": null,
   "metadata": {
    "collapsed": true,
    "scrolled": true
   },
   "outputs": [],
   "source": [
    "star_table[0:3]"
   ]
  },
  {
   "cell_type": "code",
   "execution_count": null,
   "metadata": {
    "collapsed": true
   },
   "outputs": [],
   "source": [
    "ra_to_decimal = star_table['RAh'] + (star_table['RAm'] / 60) + (star_table['RAs'] / 3600)\n",
    "\n",
    "dec_to_decimal = star_table['DEd'] + (star_table['DEm'] / 60) + (star_table['DEs'] / 3600)"
   ]
  },
  {
   "cell_type": "code",
   "execution_count": null,
   "metadata": {
    "collapsed": true
   },
   "outputs": [],
   "source": [
    "neg_mask = np.where(star_table['DE-'] == \"-\")\n",
    "\n",
    "dec_to_decimal[neg_mask] *= -1"
   ]
  },
  {
   "cell_type": "code",
   "execution_count": null,
   "metadata": {
    "collapsed": true
   },
   "outputs": [],
   "source": [
    "fig, ax = plt.subplots(1,1)                 # 1 row, 2 colums\n",
    "fig.set_size_inches(10,5)\n",
    "\n",
    "fig.tight_layout()\n",
    "\n",
    "ax.invert_xaxis()          # RA is backward\n",
    "\n",
    "ax.set_xlabel(\"RA\")\n",
    "ax.set_ylabel(\"Dec\")\n",
    "\n",
    "ax.plot(ra_to_decimal,dec_to_decimal,color=\"b\",marker=\"o\",linestyle=\"None\",markersize=5);"
   ]
  },
  {
   "cell_type": "markdown",
   "metadata": {},
   "source": [
    "---\n",
    "# Polar Plots"
   ]
  },
  {
   "cell_type": "code",
   "execution_count": null,
   "metadata": {
    "collapsed": true
   },
   "outputs": [],
   "source": [
    "theta = np.linspace(0,2*np.pi,1000)\n",
    "\n",
    "\n",
    "fig = plt.figure()\n",
    "ax = fig.add_subplot(111,projection='polar')\n",
    "\n",
    "fig.set_size_inches(6,6)                   # (width,height) - letter paper landscape\n",
    "\n",
    "fig.tight_layout()                          # Make better use of space on plot\n",
    "\n",
    "ax.plot(theta,theta/5.0,label=\"spiral\")\n",
    "ax.plot(theta,np.cos(4*theta),label=\"flower\")\n",
    "\n",
    "ax.legend(loc=2, frameon=False);"
   ]
  },
  {
   "cell_type": "markdown",
   "metadata": {},
   "source": [
    "# Everyone likes Pie"
   ]
  },
  {
   "cell_type": "code",
   "execution_count": null,
   "metadata": {
    "collapsed": true
   },
   "outputs": [],
   "source": [
    "fig,ax = plt.subplots(1,1)                    # One window\n",
    "fig.set_size_inches(6,6)                   # (width,height) - letter paper landscape\n",
    "\n",
    "fig.tight_layout()                          # Make better use of space on plot\n",
    "\n",
    "ax.set_aspect('equal')\n",
    "\n",
    "labels = np.array(['John', 'Paul' ,'George' ,'Ringo'])     # Name of slices\n",
    "sizes = np.array([0.3, 0.15, 0.45, 0.10])                  # Relative size of slices\n",
    "colors = np.array(['r', 'g', 'b', 'c'])                    # Color of Slices\n",
    "explode = np.array([0, 0, 0.1, 0])                         # Offset slide 3\n",
    "\n",
    "ax.pie(sizes, explode=explode, labels=labels, colors=colors,\n",
    "       startangle=90, shadow=True);"
   ]
  },
  {
   "cell_type": "markdown",
   "metadata": {},
   "source": [
    "# 3D plots"
   ]
  },
  {
   "cell_type": "code",
   "execution_count": null,
   "metadata": {
    "collapsed": true
   },
   "outputs": [],
   "source": [
    "from mpl_toolkits.mplot3d import Axes3D\n",
    "\n",
    "fig = plt.figure()\n",
    "ax = fig.add_subplot(111,projection='3d')\n",
    "\n",
    "fig.set_size_inches(9,9)\n",
    "\n",
    "fig.tight_layout()\n",
    "\n",
    "xx = np.cos(3*theta)\n",
    "yy = np.sin(2*theta)\n",
    "\n",
    "ax.plot(theta, xx, yy, c = \"Maroon\")\n",
    "ax.scatter(theta, xx, yy, c = \"Navy\", s = 15);\n",
    "\n",
    "ax.view_init(azim = -140, elev = 15)"
   ]
  },
  {
   "cell_type": "markdown",
   "metadata": {},
   "source": [
    "## Tons of examples of `matplotlib` plots can be found [here](http://matplotlib.org/gallery.html)"
   ]
  },
  {
   "cell_type": "code",
   "execution_count": null,
   "metadata": {
    "collapsed": true
   },
   "outputs": [],
   "source": []
  }
 ],
 "metadata": {
  "anaconda-cloud": {},
  "kernelspec": {
   "display_name": "Python 3",
   "language": "python",
   "name": "python3"
  },
  "language_info": {
   "codemirror_mode": {
    "name": "ipython",
    "version": 3
   },
   "file_extension": ".py",
   "mimetype": "text/x-python",
   "name": "python",
   "nbconvert_exporter": "python",
   "pygments_lexer": "ipython3",
   "version": "3.6.3"
  }
 },
 "nbformat": 4,
 "nbformat_minor": 1
}
